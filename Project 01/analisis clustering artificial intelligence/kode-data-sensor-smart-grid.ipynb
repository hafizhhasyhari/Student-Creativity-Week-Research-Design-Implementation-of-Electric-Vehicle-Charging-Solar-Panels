{
 "cells": [
  {
   "cell_type": "code",
   "execution_count": null,
   "id": "c4aef9b5",
   "metadata": {},
   "outputs": [],
   "source": [
    "import numpy as np\n",
    "import pandas as pd\n",
    "from scipy.cluster.hierarchy import dendrogram, linkage, fcluster\n",
    "import matplotlib.pyplot as plt\n",
    "from sklearn.preprocessing import StandardScaler\n",
    "\n",
    "# Simulasi data konsumsi energi\n",
    "np.random.seed(42)\n",
    "data = np.random.rand(20, 2) * [100, 50] + [50, 30]  # Konsumsi energi dan variabilitasnya\n",
    "df = pd.DataFrame(data, columns=['Energy_Consumption', 'Variation'])\n",
    "\n",
    "# Normalisasi data\n",
    "scaler = StandardScaler()\n",
    "data_scaled = scaler.fit_transform(df)\n",
    "\n",
    "# Agglomerative Clustering\n",
    "linkage_matrix = linkage(data_scaled, method='ward')\n",
    "\n",
    "# Plot Dendrogram\n",
    "plt.figure(figsize=(10, 7))\n",
    "dendrogram(linkage_matrix, labels=np.arange(1, len(data) + 1))\n",
    "plt.title('Dendrogram - Agglomerative Hierarchical Clustering')\n",
    "plt.xlabel('Data Points')\n",
    "plt.ylabel('Euclidean Distance')\n",
    "plt.show()\n",
    "\n",
    "# Tentukan jumlah cluster (misal 3)\n",
    "clusters = fcluster(linkage_matrix, t=3, criterion='maxclust')\n",
    "df['Cluster'] = clusters\n",
    "\n",
    "print(df.sort_values('Cluster'))"
   ]
  }
 ],
 "metadata": {
  "kernelspec": {
   "display_name": "Python 3",
   "language": "python",
   "name": "python3"
  },
  "language_info": {
   "codemirror_mode": {
    "name": "ipython",
    "version": 3
   },
   "file_extension": ".py",
   "mimetype": "text/x-python",
   "name": "python",
   "nbconvert_exporter": "python",
   "pygments_lexer": "ipython3",
   "version": "3.8.8"
  }
 },
 "nbformat": 4,
 "nbformat_minor": 5
}
